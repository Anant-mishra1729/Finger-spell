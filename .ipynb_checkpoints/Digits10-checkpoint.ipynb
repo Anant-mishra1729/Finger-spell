{
 "cells": [
  {
   "cell_type": "code",
   "execution_count": 1,
   "id": "1b75b2ca",
   "metadata": {},
   "outputs": [],
   "source": [
    "import os\n",
    "import shutil\n",
    "src = \"Resources\\\\ISL\\\\Digits\"\n",
    "dest = \"Resources\\\\Train\"\n",
    "for d in os.listdir(src):\n",
    "    os.mkdir(f\"{dest}\\{d}\")"
   ]
  },
  {
   "cell_type": "code",
   "execution_count": 2,
   "id": "6f4de6a6",
   "metadata": {},
   "outputs": [],
   "source": [
    "for d in os.listdir(src):\n",
    "    files = os.listdir(f\"{src}\\\\{d}\")[:500]\n",
    "    for file in files:\n",
    "        shutil.copy(f\"{src}\\\\{d}\\\\{file}\",f\"{dest}\\\\{d}\")"
   ]
  },
  {
   "cell_type": "code",
   "execution_count": 3,
   "id": "5e08a186",
   "metadata": {},
   "outputs": [],
   "source": [
    "from Libs.HandTracker import HandTracker\n",
    "from Libs import utils\n",
    "import cv2\n",
    "import numpy as np\n",
    "import matplotlib.pyplot as plt"
   ]
  },
  {
   "cell_type": "code",
   "execution_count": 4,
   "id": "9ee54f2d",
   "metadata": {},
   "outputs": [],
   "source": [
    "def distanceMatrix(handData, palmdist):\n",
    "    \"\"\"Eucledian distances between points 0,4,5,9,13,17,8,12,16 and 20\"\"\"\n",
    "    distMatrix = np.zeros([len(handData), len(handData)], dtype=\"float32\")\n",
    "    pd = palmdist[0]\n",
    "    for i in range(len(handData)):\n",
    "        if i > 9:\n",
    "            pd = palmdist[1]\n",
    "        for j in range(len(handData)):\n",
    "            distMatrix[i][j] = np.linalg.norm(np.array(handData[i]) - np.array(handData[j])) /pd\n",
    "    return distMatrix"
   ]
  },
  {
   "cell_type": "code",
   "execution_count": 6,
   "id": "3eccac59",
   "metadata": {},
   "outputs": [],
   "source": [
    "def getData(images):\n",
    "    train_data = []\n",
    "    labels = []\n",
    "    points = [0, 4, 5, 9, 13, 17, 8, 12, 16, 20]\n",
    "    tracker = HandTracker(static= True)\n",
    "    for img in images[:500]:\n",
    "        image = cv2.cvtColor(cv2.imread(img),cv2.COLOR_BGR2RGB)\n",
    "        results = tracker.findHands(image)\n",
    "        positions = []\n",
    "        palmdist = []\n",
    "        if results:\n",
    "            for landmarks in results:\n",
    "                tracker.drawHands(image, landmarks)\n",
    "                position = tracker.getPos(landmarks.landmark, image.shape, points)\n",
    "                pd = np.linalg.norm(np.array(position[0]) - np.array(position[3]))\n",
    "                palmdist.append(pd)\n",
    "                positions.extend(position)\n",
    "            train_data.append(distanceMatrix(positions, palmdist))\n",
    "        else:\n",
    "            print(\"No hand found\")\n",
    "    return np.array(train_data)"
   ]
  },
  {
   "cell_type": "code",
   "execution_count": 7,
   "id": "36a58d2d",
   "metadata": {},
   "outputs": [],
   "source": [
    "images = utils.getFiles(\"Resources\\\\ISL\\\\Digits\", (\".jpg\", \".png\"))\n",
    "labels = [p.split(\"\\\\\")[-2] for p in images]"
   ]
  },
  {
   "cell_type": "code",
   "execution_count": 9,
   "id": "04f5a9ee",
   "metadata": {},
   "outputs": [
    {
     "data": {
      "text/plain": [
       "(10792, 10792)"
      ]
     },
     "execution_count": 9,
     "metadata": {},
     "output_type": "execute_result"
    }
   ],
   "source": [
    "len(images),len(labels)"
   ]
  },
  {
   "cell_type": "code",
   "execution_count": 11,
   "id": "97b82c4a",
   "metadata": {},
   "outputs": [
    {
     "data": {
      "text/plain": [
       "(['Resources\\\\ISL\\\\Digits\\\\2\\\\654.jpg',\n",
       "  'Resources\\\\ISL\\\\Digits\\\\2\\\\655.jpg',\n",
       "  'Resources\\\\ISL\\\\Digits\\\\2\\\\656.jpg',\n",
       "  'Resources\\\\ISL\\\\Digits\\\\2\\\\657.jpg',\n",
       "  'Resources\\\\ISL\\\\Digits\\\\2\\\\658.jpg'],\n",
       " ['2', '2', '2', '2', '2'])"
      ]
     },
     "execution_count": 11,
     "metadata": {},
     "output_type": "execute_result"
    }
   ],
   "source": [
    "images[2015:2020],labels[2015:2020]"
   ]
  },
  {
   "cell_type": "markdown",
   "id": "c890d8ba",
   "metadata": {},
   "source": [
    "###"
   ]
  },
  {
   "cell_type": "code",
   "execution_count": 23,
   "id": "462184f8",
   "metadata": {},
   "outputs": [
    {
     "data": {
      "text/plain": [
       "(2, 10, 10)"
      ]
     },
     "execution_count": 23,
     "metadata": {},
     "output_type": "execute_result"
    }
   ],
   "source": [
    "data.shape"
   ]
  },
  {
   "cell_type": "code",
   "execution_count": 24,
   "id": "138c2d8d",
   "metadata": {},
   "outputs": [
    {
     "data": {
      "text/plain": [
       "dtype('float32')"
      ]
     },
     "execution_count": 24,
     "metadata": {},
     "output_type": "execute_result"
    }
   ],
   "source": [
    "data.dtype"
   ]
  },
  {
   "cell_type": "code",
   "execution_count": 25,
   "id": "e2fcc012",
   "metadata": {},
   "outputs": [
    {
     "data": {
      "text/plain": [
       "(2,)"
      ]
     },
     "execution_count": 25,
     "metadata": {},
     "output_type": "execute_result"
    }
   ],
   "source": [
    "labels.shape"
   ]
  },
  {
   "cell_type": "code",
   "execution_count": 26,
   "id": "064d6c0a",
   "metadata": {},
   "outputs": [
    {
     "data": {
      "text/plain": [
       "array([[0.        , 0.92833465, 1.1177489 , 1.        , 0.8896252 ,\n",
       "        0.7825871 , 2.1371868 , 0.7229748 , 0.48747703, 0.48327458],\n",
       "       [0.92833465, 0.        , 0.2891899 , 0.08142033, 0.31453   ,\n",
       "        0.59618026, 1.2378939 , 0.20819518, 0.45389134, 0.58713037],\n",
       "       [1.1177489 , 0.2891899 , 0.        , 0.29356518, 0.5966078 ,\n",
       "        0.88531566, 1.0201938 , 0.42427608, 0.6879156 , 0.8521503 ],\n",
       "       [1.        , 0.08142033, 0.29356518, 0.        , 0.30714756,\n",
       "        0.60677797, 1.185498  , 0.28564143, 0.51938456, 0.63591313],\n",
       "       [0.8896252 , 0.31453   , 0.5966078 , 0.30714756, 0.        ,\n",
       "        0.30714756, 1.4447147 , 0.35056594, 0.42004833, 0.43437225],\n",
       "       [0.7825871 , 0.59618026, 0.88531566, 0.60677797, 0.30714756,\n",
       "        0.        , 1.7471474 , 0.5429066 , 0.43846193, 0.30714756],\n",
       "       [2.1371868 , 1.2378939 , 1.0201938 , 1.185498  , 1.4447147 ,\n",
       "        1.7471474 , 0.        , 1.4260632 , 1.6876128 , 1.8213141 ],\n",
       "       [0.7229748 , 0.20819518, 0.42427608, 0.28564143, 0.35056594,\n",
       "        0.5429066 , 1.4260632 , 0.        , 0.2643148 , 0.43378484],\n",
       "       [0.48747703, 0.45389134, 0.6879156 , 0.51938456, 0.42004833,\n",
       "        0.43846193, 1.6876128 , 0.2643148 , 0.        , 0.201979  ],\n",
       "       [0.48327458, 0.58713037, 0.8521503 , 0.63591313, 0.43437225,\n",
       "        0.30714756, 1.8213141 , 0.43378484, 0.201979  , 0.        ]],\n",
       "      dtype=float32)"
      ]
     },
     "execution_count": 26,
     "metadata": {},
     "output_type": "execute_result"
    }
   ],
   "source": [
    "data[0]"
   ]
  },
  {
   "cell_type": "code",
   "execution_count": 27,
   "id": "5047df0b",
   "metadata": {},
   "outputs": [
    {
     "data": {
      "text/plain": [
       "<matplotlib.image.AxesImage at 0x28bfc1cdf40>"
      ]
     },
     "execution_count": 27,
     "metadata": {},
     "output_type": "execute_result"
    },
    {
     "data": {
      "image/png": "[encoded data removed]",
      "text/plain": [
       "<Figure size 432x288 with 1 Axes>"
      ]
     },
     "metadata": {
      "needs_background": "light"
     },
     "output_type": "display_data"
    }
   ],
   "source": [
    "plt.imshow(data[0])"
   ]
  },
  {
   "cell_type": "code",
   "execution_count": 28,
   "id": "2f1e8557",
   "metadata": {},
   "outputs": [
    {
     "data": {
      "text/plain": [
       "<matplotlib.image.AxesImage at 0x28b813074f0>"
      ]
     },
     "execution_count": 28,
     "metadata": {},
     "output_type": "execute_result"
    },
    {
     "data": {
      "image/png": "[encoded data removed]",
      "text/plain": [
       "<Figure size 432x288 with 1 Axes>"
      ]
     },
     "metadata": {
      "needs_background": "light"
     },
     "output_type": "display_data"
    }
   ],
   "source": [
    "plt.imshow(data[1])"
   ]
  },
  {
   "cell_type": "code",
   "execution_count": 49,
   "id": "4486a9d1",
   "metadata": {},
   "outputs": [],
   "source": [
    "images = utils.getFiles(\"Resources\\\\Test\", (\".jpg\", \".png\"))\n",
    "test_data,test_labels = getData(images)"
   ]
  },
  {
   "cell_type": "code",
   "execution_count": 50,
   "id": "66fea3fa",
   "metadata": {},
   "outputs": [
    {
     "data": {
      "text/plain": [
       "(1, 10, 10)"
      ]
     },
     "execution_count": 50,
     "metadata": {},
     "output_type": "execute_result"
    }
   ],
   "source": [
    "test_data.shape"
   ]
  },
  {
   "cell_type": "code",
   "execution_count": 51,
   "id": "ca307a2b",
   "metadata": {},
   "outputs": [
    {
     "data": {
      "text/plain": [
       "array(['Test'], dtype='<U4')"
      ]
     },
     "execution_count": 51,
     "metadata": {},
     "output_type": "execute_result"
    }
   ],
   "source": [
    "test_labels"
   ]
  },
  {
   "cell_type": "code",
   "execution_count": 52,
   "id": "ea02f4e9",
   "metadata": {},
   "outputs": [
    {
     "data": {
      "text/plain": [
       "<matplotlib.image.AxesImage at 0x28b90bfdcd0>"
      ]
     },
     "execution_count": 52,
     "metadata": {},
     "output_type": "execute_result"
    },
    {
     "data": {
      "image/png": "[encoded data removed]",
      "text/plain": [
       "<Figure size 432x288 with 1 Axes>"
      ]
     },
     "metadata": {
      "needs_background": "light"
     },
     "output_type": "display_data"
    }
   ],
   "source": [
    "plt.imshow(test_data[0])"
   ]
  },
  {
   "cell_type": "code",
   "execution_count": 55,
   "id": "1872b2e8",
   "metadata": {},
   "outputs": [],
   "source": [
    "images = utils.getFiles(\"Resources\\\\ISL\\\\Digits\\\\2\", (\".jpg\", \".png\"))\n",
    "test_data,test_labels = getData(images)"
   ]
  },
  {
   "cell_type": "code",
   "execution_count": 56,
   "id": "c0789a22",
   "metadata": {},
   "outputs": [
    {
     "data": {
      "text/plain": [
       "(5, 10, 10)"
      ]
     },
     "execution_count": 56,
     "metadata": {},
     "output_type": "execute_result"
    }
   ],
   "source": [
    "test_data.shape"
   ]
  },
  {
   "cell_type": "code",
   "execution_count": 57,
   "id": "b2afecb7",
   "metadata": {},
   "outputs": [
    {
     "data": {
      "text/plain": [
       "<matplotlib.image.AxesImage at 0x28b90c0f9a0>"
      ]
     },
     "execution_count": 57,
     "metadata": {},
     "output_type": "execute_result"
    },
    {
     "data": {
      "image/png": "[encoded data removed]",
      "text/plain": [
       "<Figure size 432x288 with 1 Axes>"
      ]
     },
     "metadata": {
      "needs_background": "light"
     },
     "output_type": "display_data"
    }
   ],
   "source": [
    "plt.imshow(test_data[0])"
   ]
  },
  {
   "cell_type": "code",
   "execution_count": 58,
   "id": "895a0ad5",
   "metadata": {},
   "outputs": [],
   "source": [
    "images = utils.getFiles(\"Resources\\\\ISL\\\\Digits\\\\3\", (\".jpg\", \".png\"))\n",
    "test_data,test_labels = getData(images)"
   ]
  },
  {
   "cell_type": "code",
   "execution_count": 59,
   "id": "324c6109",
   "metadata": {},
   "outputs": [
    {
     "data": {
      "text/plain": [
       "<matplotlib.image.AxesImage at 0x28b96c736d0>"
      ]
     },
     "execution_count": 59,
     "metadata": {},
     "output_type": "execute_result"
    },
    {
     "data": {
      "image/png": "[encoded data removed]",
      "text/plain": [
       "<Figure size 432x288 with 1 Axes>"
      ]
     },
     "metadata": {
      "needs_background": "light"
     },
     "output_type": "display_data"
    }
   ],
   "source": [
    "plt.imshow(test_data[0])"
   ]
  },
  {
   "cell_type": "code",
   "execution_count": 60,
   "id": "413ec2bd",
   "metadata": {},
   "outputs": [
    {
     "data": {
      "text/plain": [
       "<matplotlib.image.AxesImage at 0x28b9676e160>"
      ]
     },
     "execution_count": 60,
     "metadata": {},
     "output_type": "execute_result"
    },
    {
     "data": {
      "image/png": "[encoded data removed]",
      "text/plain": [
       "<Figure size 432x288 with 1 Axes>"
      ]
     },
     "metadata": {
      "needs_background": "light"
     },
     "output_type": "display_data"
    }
   ],
   "source": [
    "images = utils.getFiles(\"Resources\\\\ISL\\\\Digits\\\\4\", (\".jpg\", \".png\"))\n",
    "test_data,test_labels = getData(images)\n",
    "plt.imshow(test_data[0])"
   ]
  },
  {
   "cell_type": "code",
   "execution_count": 61,
   "id": "5be16045",
   "metadata": {},
   "outputs": [
    {
     "data": {
      "text/plain": [
       "<matplotlib.image.AxesImage at 0x28b96723d30>"
      ]
     },
     "execution_count": 61,
     "metadata": {},
     "output_type": "execute_result"
    },
    {
     "data": {
      "image/png": "[encoded data removed]",
      "text/plain": [
       "<Figure size 432x288 with 1 Axes>"
      ]
     },
     "metadata": {
      "needs_background": "light"
     },
     "output_type": "display_data"
    }
   ],
   "source": [
    "images = utils.getFiles(\"Resources\\\\ISL\\\\Digits\\\\5\", (\".jpg\", \".png\"))\n",
    "test_data,test_labels = getData(images)\n",
    "plt.imshow(test_data[0])"
   ]
  },
  {
   "cell_type": "code",
   "execution_count": 62,
   "id": "68db772a",
   "metadata": {},
   "outputs": [
    {
     "data": {
      "text/plain": [
       "<matplotlib.image.AxesImage at 0x28b90f13550>"
      ]
     },
     "execution_count": 62,
     "metadata": {},
     "output_type": "execute_result"
    },
    {
     "data": {
      "image/png": "[encoded data removed]",
      "text/plain": [
       "<Figure size 432x288 with 1 Axes>"
      ]
     },
     "metadata": {
      "needs_background": "light"
     },
     "output_type": "display_data"
    }
   ],
   "source": [
    "plt.imshow(test_data[1])"
   ]
  },
  {
   "cell_type": "code",
   "execution_count": 63,
   "id": "4de7561f",
   "metadata": {},
   "outputs": [
    {
     "data": {
      "text/plain": [
       "<matplotlib.image.AxesImage at 0x28b9666d460>"
      ]
     },
     "execution_count": 63,
     "metadata": {},
     "output_type": "execute_result"
    },
    {
     "data": {
      "image/png": "[encoded data removed]",
      "text/plain": [
       "<Figure size 432x288 with 1 Axes>"
      ]
     },
     "metadata": {
      "needs_background": "light"
     },
     "output_type": "display_data"
    }
   ],
   "source": [
    "images = utils.getFiles(\"Resources\\\\ISL\\\\Digits\\\\6\", (\".jpg\", \".png\"))\n",
    "test_data,test_labels = getData(images)\n",
    "plt.imshow(test_data[0])"
   ]
  },
  {
   "cell_type": "code",
   "execution_count": 64,
   "id": "3e3a6637",
   "metadata": {},
   "outputs": [
    {
     "data": {
      "text/plain": [
       "<matplotlib.image.AxesImage at 0x28b90e15d90>"
      ]
     },
     "execution_count": 64,
     "metadata": {},
     "output_type": "execute_result"
    },
    {
     "data": {
      "image/png": "[encoded data removed]",
      "text/plain": [
       "<Figure size 432x288 with 1 Axes>"
      ]
     },
     "metadata": {
      "needs_background": "light"
     },
     "output_type": "display_data"
    }
   ],
   "source": [
    "plt.imshow(test_data[2])"
   ]
  },
  {
   "cell_type": "code",
   "execution_count": 66,
   "id": "dcfa6ac8",
   "metadata": {},
   "outputs": [
    {
     "data": {
      "text/plain": [
       "<matplotlib.image.AxesImage at 0x28baf3cef10>"
      ]
     },
     "execution_count": 66,
     "metadata": {},
     "output_type": "execute_result"
    },
    {
     "data": {
      "image/png": "[encoded data removed]",
      "text/plain": [
       "<Figure size 432x288 with 1 Axes>"
      ]
     },
     "metadata": {
      "needs_background": "light"
     },
     "output_type": "display_data"
    }
   ],
   "source": [
    "images = utils.getFiles(\"Resources\\\\ISL\\\\Digits\\\\7\", (\".jpg\", \".png\"))\n",
    "test_data,test_labels = getData(images)\n",
    "plt.imshow(test_data[0])"
   ]
  },
  {
   "cell_type": "code",
   "execution_count": 67,
   "id": "6a04b5a8",
   "metadata": {},
   "outputs": [
    {
     "data": {
      "text/plain": [
       "<matplotlib.image.AxesImage at 0x28bae54dc70>"
      ]
     },
     "execution_count": 67,
     "metadata": {},
     "output_type": "execute_result"
    },
    {
     "data": {
      "image/png": "[encoded data removed]",
      "text/plain": [
       "<Figure size 432x288 with 1 Axes>"
      ]
     },
     "metadata": {
      "needs_background": "light"
     },
     "output_type": "display_data"
    }
   ],
   "source": [
    "plt.imshow(test_data[2])"
   ]
  },
  {
   "cell_type": "code",
   "execution_count": 68,
   "id": "018b01cf",
   "metadata": {},
   "outputs": [
    {
     "data": {
      "text/plain": [
       "<matplotlib.image.AxesImage at 0x28b9e0ae850>"
      ]
     },
     "execution_count": 68,
     "metadata": {},
     "output_type": "execute_result"
    },
    {
     "data": {
      "image/png": "[encoded data removed]",
      "text/plain": [
       "<Figure size 432x288 with 1 Axes>"
      ]
     },
     "metadata": {
      "needs_background": "light"
     },
     "output_type": "display_data"
    }
   ],
   "source": [
    "images = utils.getFiles(\"Resources\\\\ISL\\\\Digits\\\\1\", (\".jpg\", \".png\"))\n",
    "test_data,test_labels = getData(images)\n",
    "plt.imshow(test_data[0])"
   ]
  },
  {
   "cell_type": "code",
   "execution_count": 69,
   "id": "60ae8af9",
   "metadata": {},
   "outputs": [
    {
     "data": {
      "text/plain": [
       "<matplotlib.image.AxesImage at 0x28ba4979d00>"
      ]
     },
     "execution_count": 69,
     "metadata": {},
     "output_type": "execute_result"
    },
    {
     "data": {
      "image/png": "[encoded data removed]",
      "text/plain": [
       "<Figure size 432x288 with 1 Axes>"
      ]
     },
     "metadata": {
      "needs_background": "light"
     },
     "output_type": "display_data"
    }
   ],
   "source": [
    "images = utils.getFiles(\"Resources\\\\ISL\\\\Digits\\\\8\", (\".jpg\", \".png\"))\n",
    "test_data,test_labels = getData(images)\n",
    "plt.imshow(test_data[0])"
   ]
  },
  {
   "cell_type": "code",
   "execution_count": 70,
   "id": "bb44f75c",
   "metadata": {},
   "outputs": [
    {
     "data": {
      "text/plain": [
       "<matplotlib.image.AxesImage at 0x28ba53121f0>"
      ]
     },
     "execution_count": 70,
     "metadata": {},
     "output_type": "execute_result"
    },
    {
     "data": {
      "image/png": "[encoded data removed]",
      "text/plain": [
       "<Figure size 432x288 with 1 Axes>"
      ]
     },
     "metadata": {
      "needs_background": "light"
     },
     "output_type": "display_data"
    }
   ],
   "source": [
    "images = utils.getFiles(\"Resources\\\\ISL\\\\Digits\\\\9\", (\".jpg\", \".png\"))\n",
    "test_data,test_labels = getData(images)\n",
    "plt.imshow(test_data[0])"
   ]
  },
  {
   "cell_type": "code",
   "execution_count": null,
   "id": "c9693530",
   "metadata": {},
   "outputs": [],
   "source": []
  }
 ],
 "metadata": {
  "kernelspec": {
   "display_name": "Python 3 (ipykernel)",
   "language": "python",
   "name": "python3"
  },
  "language_info": {
   "codemirror_mode": {
    "name": "ipython",
    "version": 3
   },
   "file_extension": ".py",
   "mimetype": "text/x-python",
   "name": "python",
   "nbconvert_exporter": "python",
   "pygments_lexer": "ipython3",
   "version": "3.9.12"
  }
 },
 "nbformat": 4,
 "nbformat_minor": 5
}
