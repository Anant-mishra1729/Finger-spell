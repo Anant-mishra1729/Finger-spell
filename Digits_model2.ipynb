{
 "cells": [
  {
   "cell_type": "code",
   "execution_count": 2,
   "id": "ba53a657",
   "metadata": {},
   "outputs": [],
   "source": [
    "import numpy as np\n",
    "import matplotlib.pyplot as plt\n",
    "%matplotlib inline"
   ]
  },
  {
   "cell_type": "code",
   "execution_count": 3,
   "id": "11b60991",
   "metadata": {},
   "outputs": [],
   "source": [
    "data = np.load(\"digits.npz\")\n",
    "X_train = data[\"train_data\"]\n",
    "y_train = data[\"train_labels\"]\n",
    "X_test = data[\"test_data\"]\n",
    "y_test = data[\"test_labels\"]"
   ]
  },
  {
   "cell_type": "code",
   "execution_count": 4,
   "id": "04a4ab04",
   "metadata": {},
   "outputs": [
    {
     "data": {
      "text/plain": [
       "array([4, 2, 4, ..., 5, 7, 1], dtype=uint8)"
      ]
     },
     "execution_count": 4,
     "metadata": {},
     "output_type": "execute_result"
    }
   ],
   "source": [
    "y_train"
   ]
  },
  {
   "cell_type": "code",
   "execution_count": 5,
   "id": "714ffeb6",
   "metadata": {},
   "outputs": [
    {
     "data": {
      "text/plain": [
       "((8633, 21, 21), (2159, 21, 21))"
      ]
     },
     "execution_count": 5,
     "metadata": {},
     "output_type": "execute_result"
    }
   ],
   "source": [
    "X_train.shape,X_test.shape"
   ]
  },
  {
   "cell_type": "code",
   "execution_count": 6,
   "id": "78a3fbad",
   "metadata": {},
   "outputs": [
    {
     "data": {
      "text/plain": [
       "((8633,), (2159,))"
      ]
     },
     "execution_count": 6,
     "metadata": {},
     "output_type": "execute_result"
    }
   ],
   "source": [
    "y_train.shape,y_test.shape"
   ]
  },
  {
   "cell_type": "code",
   "execution_count": 7,
   "id": "c94ef2b4",
   "metadata": {
    "scrolled": true
   },
   "outputs": [],
   "source": [
    "y_test = np.array([img.split(\"\\\\\")[-2] for img in y_test]).astype(\"uint8\")"
   ]
  },
  {
   "cell_type": "code",
   "execution_count": 8,
   "id": "1ba0e70d",
   "metadata": {},
   "outputs": [
    {
     "data": {
      "image/png": "[encoded data removed]",
      "text/plain": [
       "<Figure size 720x720 with 9 Axes>"
      ]
     },
     "metadata": {},
     "output_type": "display_data"
    }
   ],
   "source": [
    "plt.figure(figsize=(10,10))\n",
    "for i in range(9):\n",
    "    plt.subplot(3,3,i+1)\n",
    "    plt.xlabel(i+1)\n",
    "    plt.xticks([])\n",
    "    plt.yticks([])\n",
    "    plt.imshow(X_train[np.where(y_train == (i+1))[0][0]])\n",
    "plt.tight_layout()"
   ]
  },
  {
   "cell_type": "code",
   "execution_count": 9,
   "id": "a8733a30",
   "metadata": {},
   "outputs": [],
   "source": [
    "X_train = X_train.reshape(X_train.shape[0],21*21)\n",
    "X_test = X_test.reshape(X_test.shape[0],21*21)"
   ]
  },
  {
   "cell_type": "code",
   "execution_count": 10,
   "id": "1f625db9",
   "metadata": {},
   "outputs": [
    {
     "data": {
      "text/plain": [
       "((8633, 441), (2159, 441))"
      ]
     },
     "execution_count": 10,
     "metadata": {},
     "output_type": "execute_result"
    }
   ],
   "source": [
    "X_train.shape,X_test.shape"
   ]
  },
  {
   "cell_type": "code",
   "execution_count": 12,
   "id": "75a0b495",
   "metadata": {},
   "outputs": [],
   "source": [
    "from sklearn.ensemble import RandomForestClassifier\n",
    "rfc = RandomForestClassifier()\n",
    "parameters = {\n",
    "    \"n_estimators\":[5,10,50,100,250],\n",
    "    \"max_depth\":[2,4,8,16,32,None]   \n",
    "}\n"
   ]
  },
  {
   "cell_type": "code",
   "execution_count": 16,
   "id": "0ab7b8a4",
   "metadata": {
    "scrolled": true
   },
   "outputs": [
    {
     "name": "stdout",
     "output_type": "stream",
     "text": [
      "Fitting 5 folds for each of 30 candidates, totalling 150 fits\n",
      "[CV 1/5] END .......max_depth=2, n_estimators=5;, score=0.997 total time=   0.0s\n",
      "[CV 2/5] END .......max_depth=2, n_estimators=5;, score=0.781 total time=   0.0s\n",
      "[CV 3/5] END .......max_depth=2, n_estimators=5;, score=0.778 total time=   0.0s\n",
      "[CV 4/5] END .......max_depth=2, n_estimators=5;, score=0.889 total time=   0.0s\n",
      "[CV 5/5] END .......max_depth=2, n_estimators=5;, score=0.669 total time=   0.0s\n",
      "[CV 1/5] END ......max_depth=2, n_estimators=10;, score=1.000 total time=   0.1s\n",
      "[CV 2/5] END ......max_depth=2, n_estimators=10;, score=1.000 total time=   0.1s\n",
      "[CV 3/5] END ......max_depth=2, n_estimators=10;, score=0.997 total time=   0.1s\n",
      "[CV 4/5] END ......max_depth=2, n_estimators=10;, score=1.000 total time=   0.1s\n",
      "[CV 5/5] END ......max_depth=2, n_estimators=10;, score=0.999 total time=   0.1s\n",
      "[CV 1/5] END ......max_depth=2, n_estimators=50;, score=1.000 total time=   0.7s\n",
      "[CV 2/5] END ......max_depth=2, n_estimators=50;, score=0.999 total time=   0.7s\n",
      "[CV 3/5] END ......max_depth=2, n_estimators=50;, score=1.000 total time=   0.7s\n",
      "[CV 4/5] END ......max_depth=2, n_estimators=50;, score=1.000 total time=   0.7s\n",
      "[CV 5/5] END ......max_depth=2, n_estimators=50;, score=0.999 total time=   0.7s\n",
      "[CV 1/5] END .....max_depth=2, n_estimators=100;, score=1.000 total time=   1.4s\n",
      "[CV 2/5] END .....max_depth=2, n_estimators=100;, score=1.000 total time=   1.4s\n",
      "[CV 3/5] END .....max_depth=2, n_estimators=100;, score=1.000 total time=   1.4s\n",
      "[CV 4/5] END .....max_depth=2, n_estimators=100;, score=1.000 total time=   1.4s\n",
      "[CV 5/5] END .....max_depth=2, n_estimators=100;, score=0.999 total time=   1.4s\n",
      "[CV 1/5] END .....max_depth=2, n_estimators=250;, score=1.000 total time=   3.6s\n",
      "[CV 2/5] END .....max_depth=2, n_estimators=250;, score=1.000 total time=   3.6s\n",
      "[CV 3/5] END .....max_depth=2, n_estimators=250;, score=1.000 total time=   3.6s\n",
      "[CV 4/5] END .....max_depth=2, n_estimators=250;, score=1.000 total time=   3.6s\n",
      "[CV 5/5] END .....max_depth=2, n_estimators=250;, score=0.999 total time=   3.6s\n",
      "[CV 1/5] END .......max_depth=4, n_estimators=5;, score=1.000 total time=   0.0s\n",
      "[CV 2/5] END .......max_depth=4, n_estimators=5;, score=0.999 total time=   0.0s\n",
      "[CV 3/5] END .......max_depth=4, n_estimators=5;, score=1.000 total time=   0.0s\n",
      "[CV 4/5] END .......max_depth=4, n_estimators=5;, score=1.000 total time=   0.0s\n",
      "[CV 5/5] END .......max_depth=4, n_estimators=5;, score=1.000 total time=   0.0s\n",
      "[CV 1/5] END ......max_depth=4, n_estimators=10;, score=1.000 total time=   0.2s\n",
      "[CV 2/5] END ......max_depth=4, n_estimators=10;, score=0.999 total time=   0.1s\n",
      "[CV 3/5] END ......max_depth=4, n_estimators=10;, score=1.000 total time=   0.2s\n",
      "[CV 4/5] END ......max_depth=4, n_estimators=10;, score=1.000 total time=   0.2s\n",
      "[CV 5/5] END ......max_depth=4, n_estimators=10;, score=0.999 total time=   0.2s\n",
      "[CV 1/5] END ......max_depth=4, n_estimators=50;, score=1.000 total time=   1.1s\n",
      "[CV 2/5] END ......max_depth=4, n_estimators=50;, score=1.000 total time=   1.1s\n",
      "[CV 3/5] END ......max_depth=4, n_estimators=50;, score=1.000 total time=   1.1s\n",
      "[CV 4/5] END ......max_depth=4, n_estimators=50;, score=1.000 total time=   1.1s\n",
      "[CV 5/5] END ......max_depth=4, n_estimators=50;, score=0.999 total time=   1.1s\n",
      "[CV 1/5] END .....max_depth=4, n_estimators=100;, score=1.000 total time=   2.3s\n",
      "[CV 2/5] END .....max_depth=4, n_estimators=100;, score=1.000 total time=   2.3s\n",
      "[CV 3/5] END .....max_depth=4, n_estimators=100;, score=1.000 total time=   2.3s\n",
      "[CV 4/5] END .....max_depth=4, n_estimators=100;, score=1.000 total time=   2.3s\n",
      "[CV 5/5] END .....max_depth=4, n_estimators=100;, score=0.999 total time=   2.3s\n",
      "[CV 1/5] END .....max_depth=4, n_estimators=250;, score=1.000 total time=   5.9s\n",
      "[CV 2/5] END .....max_depth=4, n_estimators=250;, score=1.000 total time=   5.9s\n",
      "[CV 3/5] END .....max_depth=4, n_estimators=250;, score=1.000 total time=   6.0s\n",
      "[CV 4/5] END .....max_depth=4, n_estimators=250;, score=1.000 total time=   5.9s\n",
      "[CV 5/5] END .....max_depth=4, n_estimators=250;, score=0.999 total time=   5.9s\n",
      "[CV 1/5] END .......max_depth=8, n_estimators=5;, score=1.000 total time=   0.1s\n",
      "[CV 2/5] END .......max_depth=8, n_estimators=5;, score=1.000 total time=   0.1s\n",
      "[CV 3/5] END .......max_depth=8, n_estimators=5;, score=1.000 total time=   0.1s\n",
      "[CV 4/5] END .......max_depth=8, n_estimators=5;, score=1.000 total time=   0.1s\n",
      "[CV 5/5] END .......max_depth=8, n_estimators=5;, score=0.999 total time=   0.1s\n",
      "[CV 1/5] END ......max_depth=8, n_estimators=10;, score=1.000 total time=   0.2s\n",
      "[CV 2/5] END ......max_depth=8, n_estimators=10;, score=1.000 total time=   0.2s\n",
      "[CV 3/5] END ......max_depth=8, n_estimators=10;, score=1.000 total time=   0.2s\n",
      "[CV 4/5] END ......max_depth=8, n_estimators=10;, score=1.000 total time=   0.2s\n",
      "[CV 5/5] END ......max_depth=8, n_estimators=10;, score=1.000 total time=   0.2s\n",
      "[CV 1/5] END ......max_depth=8, n_estimators=50;, score=1.000 total time=   1.4s\n",
      "[CV 2/5] END ......max_depth=8, n_estimators=50;, score=1.000 total time=   1.5s\n",
      "[CV 3/5] END ......max_depth=8, n_estimators=50;, score=1.000 total time=   1.4s\n",
      "[CV 4/5] END ......max_depth=8, n_estimators=50;, score=1.000 total time=   1.4s\n",
      "[CV 5/5] END ......max_depth=8, n_estimators=50;, score=1.000 total time=   1.5s\n",
      "[CV 1/5] END .....max_depth=8, n_estimators=100;, score=1.000 total time=   3.0s\n",
      "[CV 2/5] END .....max_depth=8, n_estimators=100;, score=1.000 total time=   3.1s\n",
      "[CV 3/5] END .....max_depth=8, n_estimators=100;, score=1.000 total time=   3.2s\n",
      "[CV 4/5] END .....max_depth=8, n_estimators=100;, score=1.000 total time=   3.3s\n",
      "[CV 5/5] END .....max_depth=8, n_estimators=100;, score=0.999 total time=   3.2s\n",
      "[CV 1/5] END .....max_depth=8, n_estimators=250;, score=1.000 total time=   8.2s\n",
      "[CV 2/5] END .....max_depth=8, n_estimators=250;, score=1.000 total time=   8.6s\n",
      "[CV 3/5] END .....max_depth=8, n_estimators=250;, score=1.000 total time=   8.2s\n",
      "[CV 4/5] END .....max_depth=8, n_estimators=250;, score=1.000 total time=   8.5s\n",
      "[CV 5/5] END .....max_depth=8, n_estimators=250;, score=1.000 total time=   8.2s\n",
      "[CV 1/5] END ......max_depth=16, n_estimators=5;, score=1.000 total time=   0.1s\n",
      "[CV 2/5] END ......max_depth=16, n_estimators=5;, score=1.000 total time=   0.1s\n",
      "[CV 3/5] END ......max_depth=16, n_estimators=5;, score=1.000 total time=   0.1s\n",
      "[CV 4/5] END ......max_depth=16, n_estimators=5;, score=1.000 total time=   0.1s\n",
      "[CV 5/5] END ......max_depth=16, n_estimators=5;, score=1.000 total time=   0.1s\n",
      "[CV 1/5] END .....max_depth=16, n_estimators=10;, score=1.000 total time=   0.3s\n",
      "[CV 2/5] END .....max_depth=16, n_estimators=10;, score=1.000 total time=   0.2s\n",
      "[CV 3/5] END .....max_depth=16, n_estimators=10;, score=1.000 total time=   0.2s\n",
      "[CV 4/5] END .....max_depth=16, n_estimators=10;, score=1.000 total time=   0.2s\n",
      "[CV 5/5] END .....max_depth=16, n_estimators=10;, score=1.000 total time=   0.2s\n",
      "[CV 1/5] END .....max_depth=16, n_estimators=50;, score=1.000 total time=   1.5s\n",
      "[CV 2/5] END .....max_depth=16, n_estimators=50;, score=1.000 total time=   1.5s\n",
      "[CV 3/5] END .....max_depth=16, n_estimators=50;, score=1.000 total time=   1.5s\n",
      "[CV 4/5] END .....max_depth=16, n_estimators=50;, score=1.000 total time=   2.1s\n",
      "[CV 5/5] END .....max_depth=16, n_estimators=50;, score=0.999 total time=   1.7s\n",
      "[CV 1/5] END ....max_depth=16, n_estimators=100;, score=1.000 total time=   3.3s\n",
      "[CV 2/5] END ....max_depth=16, n_estimators=100;, score=1.000 total time=   3.3s\n",
      "[CV 3/5] END ....max_depth=16, n_estimators=100;, score=1.000 total time=   3.2s\n",
      "[CV 4/5] END ....max_depth=16, n_estimators=100;, score=1.000 total time=   3.5s\n",
      "[CV 5/5] END ....max_depth=16, n_estimators=100;, score=0.999 total time=   3.4s\n",
      "[CV 1/5] END ....max_depth=16, n_estimators=250;, score=1.000 total time=   8.4s\n",
      "[CV 2/5] END ....max_depth=16, n_estimators=250;, score=1.000 total time=   8.3s\n",
      "[CV 3/5] END ....max_depth=16, n_estimators=250;, score=1.000 total time=   8.0s\n",
      "[CV 4/5] END ....max_depth=16, n_estimators=250;, score=1.000 total time=   7.9s\n",
      "[CV 5/5] END ....max_depth=16, n_estimators=250;, score=1.000 total time=   7.9s\n",
      "[CV 1/5] END ......max_depth=32, n_estimators=5;, score=1.000 total time=   0.1s\n"
     ]
    },
    {
     "name": "stdout",
     "output_type": "stream",
     "text": [
      "[CV 2/5] END ......max_depth=32, n_estimators=5;, score=1.000 total time=   0.1s\n",
      "[CV 3/5] END ......max_depth=32, n_estimators=5;, score=1.000 total time=   0.1s\n",
      "[CV 4/5] END ......max_depth=32, n_estimators=5;, score=1.000 total time=   0.1s\n",
      "[CV 5/5] END ......max_depth=32, n_estimators=5;, score=0.999 total time=   0.1s\n",
      "[CV 1/5] END .....max_depth=32, n_estimators=10;, score=1.000 total time=   0.2s\n",
      "[CV 2/5] END .....max_depth=32, n_estimators=10;, score=1.000 total time=   0.2s\n",
      "[CV 3/5] END .....max_depth=32, n_estimators=10;, score=1.000 total time=   0.2s\n",
      "[CV 4/5] END .....max_depth=32, n_estimators=10;, score=1.000 total time=   0.2s\n",
      "[CV 5/5] END .....max_depth=32, n_estimators=10;, score=1.000 total time=   0.2s\n",
      "[CV 1/5] END .....max_depth=32, n_estimators=50;, score=1.000 total time=   1.5s\n",
      "[CV 2/5] END .....max_depth=32, n_estimators=50;, score=1.000 total time=   1.7s\n",
      "[CV 3/5] END .....max_depth=32, n_estimators=50;, score=1.000 total time=   1.5s\n",
      "[CV 4/5] END .....max_depth=32, n_estimators=50;, score=1.000 total time=   1.5s\n",
      "[CV 5/5] END .....max_depth=32, n_estimators=50;, score=0.999 total time=   1.5s\n",
      "[CV 1/5] END ....max_depth=32, n_estimators=100;, score=1.000 total time=   3.2s\n",
      "[CV 2/5] END ....max_depth=32, n_estimators=100;, score=1.000 total time=   3.2s\n",
      "[CV 3/5] END ....max_depth=32, n_estimators=100;, score=1.000 total time=   3.1s\n",
      "[CV 4/5] END ....max_depth=32, n_estimators=100;, score=1.000 total time=   3.1s\n",
      "[CV 5/5] END ....max_depth=32, n_estimators=100;, score=1.000 total time=   3.2s\n",
      "[CV 1/5] END ....max_depth=32, n_estimators=250;, score=1.000 total time=   8.4s\n",
      "[CV 2/5] END ....max_depth=32, n_estimators=250;, score=1.000 total time=   8.6s\n",
      "[CV 3/5] END ....max_depth=32, n_estimators=250;, score=1.000 total time=   8.2s\n",
      "[CV 4/5] END ....max_depth=32, n_estimators=250;, score=1.000 total time=   8.3s\n",
      "[CV 5/5] END ....max_depth=32, n_estimators=250;, score=1.000 total time=   7.9s\n",
      "[CV 1/5] END ....max_depth=None, n_estimators=5;, score=1.000 total time=   0.1s\n",
      "[CV 2/5] END ....max_depth=None, n_estimators=5;, score=0.999 total time=   0.1s\n",
      "[CV 3/5] END ....max_depth=None, n_estimators=5;, score=1.000 total time=   0.1s\n",
      "[CV 4/5] END ....max_depth=None, n_estimators=5;, score=1.000 total time=   0.1s\n",
      "[CV 5/5] END ....max_depth=None, n_estimators=5;, score=0.999 total time=   0.1s\n",
      "[CV 1/5] END ...max_depth=None, n_estimators=10;, score=1.000 total time=   0.2s\n",
      "[CV 2/5] END ...max_depth=None, n_estimators=10;, score=1.000 total time=   0.2s\n",
      "[CV 3/5] END ...max_depth=None, n_estimators=10;, score=1.000 total time=   0.2s\n",
      "[CV 4/5] END ...max_depth=None, n_estimators=10;, score=1.000 total time=   0.2s\n",
      "[CV 5/5] END ...max_depth=None, n_estimators=10;, score=1.000 total time=   0.2s\n",
      "[CV 1/5] END ...max_depth=None, n_estimators=50;, score=1.000 total time=   1.6s\n",
      "[CV 2/5] END ...max_depth=None, n_estimators=50;, score=1.000 total time=   1.6s\n",
      "[CV 3/5] END ...max_depth=None, n_estimators=50;, score=1.000 total time=   1.5s\n",
      "[CV 4/5] END ...max_depth=None, n_estimators=50;, score=1.000 total time=   1.5s\n",
      "[CV 5/5] END ...max_depth=None, n_estimators=50;, score=0.999 total time=   1.8s\n",
      "[CV 1/5] END ..max_depth=None, n_estimators=100;, score=1.000 total time=   3.5s\n",
      "[CV 2/5] END ..max_depth=None, n_estimators=100;, score=1.000 total time=   3.3s\n",
      "[CV 3/5] END ..max_depth=None, n_estimators=100;, score=1.000 total time=   3.3s\n",
      "[CV 4/5] END ..max_depth=None, n_estimators=100;, score=1.000 total time=   3.3s\n",
      "[CV 5/5] END ..max_depth=None, n_estimators=100;, score=1.000 total time=   3.2s\n",
      "[CV 1/5] END ..max_depth=None, n_estimators=250;, score=1.000 total time=   8.9s\n",
      "[CV 2/5] END ..max_depth=None, n_estimators=250;, score=1.000 total time=   8.0s\n",
      "[CV 3/5] END ..max_depth=None, n_estimators=250;, score=1.000 total time=   8.7s\n",
      "[CV 4/5] END ..max_depth=None, n_estimators=250;, score=1.000 total time=   8.0s\n",
      "[CV 5/5] END ..max_depth=None, n_estimators=250;, score=0.999 total time=   8.3s\n"
     ]
    },
    {
     "data": {
      "text/html": [
       "<style>#sk-container-id-1 {color: black;background-color: white;}#sk-container-id-1 pre{padding: 0;}#sk-container-id-1 div.sk-toggleable {background-color: white;}#sk-container-id-1 label.sk-toggleable__label {cursor: pointer;display: block;width: 100%;margin-bottom: 0;padding: 0.3em;box-sizing: border-box;text-align: center;}#sk-container-id-1 label.sk-toggleable__label-arrow:before {content: \"▸\";float: left;margin-right: 0.25em;color: #696969;}#sk-container-id-1 label.sk-toggleable__label-arrow:hover:before {color: black;}#sk-container-id-1 div.sk-estimator:hover label.sk-toggleable__label-arrow:before {color: black;}#sk-container-id-1 div.sk-toggleable__content {max-height: 0;max-width: 0;overflow: hidden;text-align: left;background-color: #f0f8ff;}#sk-container-id-1 div.sk-toggleable__content pre {margin: 0.2em;color: black;border-radius: 0.25em;background-color: #f0f8ff;}#sk-container-id-1 input.sk-toggleable__control:checked~div.sk-toggleable__content {max-height: 200px;max-width: 100%;overflow: auto;}#sk-container-id-1 input.sk-toggleable__control:checked~label.sk-toggleable__label-arrow:before {content: \"▾\";}#sk-container-id-1 div.sk-estimator input.sk-toggleable__control:checked~label.sk-toggleable__label {background-color: #d4ebff;}#sk-container-id-1 div.sk-label input.sk-toggleable__control:checked~label.sk-toggleable__label {background-color: #d4ebff;}#sk-container-id-1 input.sk-hidden--visually {border: 0;clip: rect(1px 1px 1px 1px);clip: rect(1px, 1px, 1px, 1px);height: 1px;margin: -1px;overflow: hidden;padding: 0;position: absolute;width: 1px;}#sk-container-id-1 div.sk-estimator {font-family: monospace;background-color: #f0f8ff;border: 1px dotted black;border-radius: 0.25em;box-sizing: border-box;margin-bottom: 0.5em;}#sk-container-id-1 div.sk-estimator:hover {background-color: #d4ebff;}#sk-container-id-1 div.sk-parallel-item::after {content: \"\";width: 100%;border-bottom: 1px solid gray;flex-grow: 1;}#sk-container-id-1 div.sk-label:hover label.sk-toggleable__label {background-color: #d4ebff;}#sk-container-id-1 div.sk-serial::before {content: \"\";position: absolute;border-left: 1px solid gray;box-sizing: border-box;top: 0;bottom: 0;left: 50%;z-index: 0;}#sk-container-id-1 div.sk-serial {display: flex;flex-direction: column;align-items: center;background-color: white;padding-right: 0.2em;padding-left: 0.2em;position: relative;}#sk-container-id-1 div.sk-item {position: relative;z-index: 1;}#sk-container-id-1 div.sk-parallel {display: flex;align-items: stretch;justify-content: center;background-color: white;position: relative;}#sk-container-id-1 div.sk-item::before, #sk-container-id-1 div.sk-parallel-item::before {content: \"\";position: absolute;border-left: 1px solid gray;box-sizing: border-box;top: 0;bottom: 0;left: 50%;z-index: -1;}#sk-container-id-1 div.sk-parallel-item {display: flex;flex-direction: column;z-index: 1;position: relative;background-color: white;}#sk-container-id-1 div.sk-parallel-item:first-child::after {align-self: flex-end;width: 50%;}#sk-container-id-1 div.sk-parallel-item:last-child::after {align-self: flex-start;width: 50%;}#sk-container-id-1 div.sk-parallel-item:only-child::after {width: 0;}#sk-container-id-1 div.sk-dashed-wrapped {border: 1px dashed gray;margin: 0 0.4em 0.5em 0.4em;box-sizing: border-box;padding-bottom: 0.4em;background-color: white;}#sk-container-id-1 div.sk-label label {font-family: monospace;font-weight: bold;display: inline-block;line-height: 1.2em;}#sk-container-id-1 div.sk-label-container {text-align: center;}#sk-container-id-1 div.sk-container {/* jupyter's `normalize.less` sets `[hidden] { display: none; }` but bootstrap.min.css set `[hidden] { display: none !important; }` so we also need the `!important` here to be able to override the default hidden behavior on the sphinx rendered scikit-learn.org. See: https://github.com/scikit-learn/scikit-learn/issues/21755 */display: inline-block !important;position: relative;}#sk-container-id-1 div.sk-text-repr-fallback {display: none;}</style><div id=\"sk-container-id-1\" class=\"sk-top-container\"><div class=\"sk-text-repr-fallback\"><pre>GridSearchCV(cv=5, estimator=RandomForestClassifier(),\n",
       "             param_grid={&#x27;max_depth&#x27;: [2, 4, 8, 16, 32, None],\n",
       "                         &#x27;n_estimators&#x27;: [5, 10, 50, 100, 250]},\n",
       "             verbose=5)</pre><b>In a Jupyter environment, please rerun this cell to show the HTML representation or trust the notebook. <br />On GitHub, the HTML representation is unable to render, please try loading this page with nbviewer.org.</b></div><div class=\"sk-container\" hidden><div class=\"sk-item sk-dashed-wrapped\"><div class=\"sk-label-container\"><div class=\"sk-label sk-toggleable\"><input class=\"sk-toggleable__control sk-hidden--visually\" id=\"sk-estimator-id-1\" type=\"checkbox\" ><label for=\"sk-estimator-id-1\" class=\"sk-toggleable__label sk-toggleable__label-arrow\">GridSearchCV</label><div class=\"sk-toggleable__content\"><pre>GridSearchCV(cv=5, estimator=RandomForestClassifier(),\n",
       "             param_grid={&#x27;max_depth&#x27;: [2, 4, 8, 16, 32, None],\n",
       "                         &#x27;n_estimators&#x27;: [5, 10, 50, 100, 250]},\n",
       "             verbose=5)</pre></div></div></div><div class=\"sk-parallel\"><div class=\"sk-parallel-item\"><div class=\"sk-item\"><div class=\"sk-label-container\"><div class=\"sk-label sk-toggleable\"><input class=\"sk-toggleable__control sk-hidden--visually\" id=\"sk-estimator-id-2\" type=\"checkbox\" ><label for=\"sk-estimator-id-2\" class=\"sk-toggleable__label sk-toggleable__label-arrow\">estimator: RandomForestClassifier</label><div class=\"sk-toggleable__content\"><pre>RandomForestClassifier()</pre></div></div></div><div class=\"sk-serial\"><div class=\"sk-item\"><div class=\"sk-estimator sk-toggleable\"><input class=\"sk-toggleable__control sk-hidden--visually\" id=\"sk-estimator-id-3\" type=\"checkbox\" ><label for=\"sk-estimator-id-3\" class=\"sk-toggleable__label sk-toggleable__label-arrow\">RandomForestClassifier</label><div class=\"sk-toggleable__content\"><pre>RandomForestClassifier()</pre></div></div></div></div></div></div></div></div></div></div>"
      ],
      "text/plain": [
       "GridSearchCV(cv=5, estimator=RandomForestClassifier(),\n",
       "             param_grid={'max_depth': [2, 4, 8, 16, 32, None],\n",
       "                         'n_estimators': [5, 10, 50, 100, 250]},\n",
       "             verbose=5)"
      ]
     },
     "execution_count": 16,
     "metadata": {},
     "output_type": "execute_result"
    }
   ],
   "source": [
    "from sklearn.model_selection import GridSearchCV\n",
    "cv = GridSearchCV(rfc,parameters,cv=5,verbose=5)\n",
    "cv.fit(X_train,y_train)"
   ]
  },
  {
   "cell_type": "code",
   "execution_count": 17,
   "id": "f84e9ed5",
   "metadata": {},
   "outputs": [
    {
     "data": {
      "text/plain": [
       "{'max_depth': 8, 'n_estimators': 10}"
      ]
     },
     "execution_count": 17,
     "metadata": {},
     "output_type": "execute_result"
    }
   ],
   "source": [
    "cv.best_params_"
   ]
  },
  {
   "cell_type": "markdown",
   "id": "967ec44e",
   "metadata": {},
   "source": [
    "model = Sequential([\n",
    "    layers.Dense(64,activation='relu',input_shape = (21*21,)),\n",
    "    layers.Dense(64,activation='relu',input_shape = (21*21,)),\n",
    "    layers.Dense(9,activation='softmax')    \n",
    "])"
   ]
  },
  {
   "cell_type": "markdown",
   "id": "31411855",
   "metadata": {},
   "source": [
    "model.summary()"
   ]
  },
  {
   "cell_type": "markdown",
   "id": "d2d349e3",
   "metadata": {},
   "source": [
    "X_train.shape,X_test.shape"
   ]
  },
  {
   "cell_type": "markdown",
   "id": "b63f9dc4",
   "metadata": {},
   "source": [
    "model.compile(\n",
    "    loss = \"sparse_categorical_crossentropy\",\n",
    "    optimizer = \"adam\",\n",
    "    metrics = [\"accuracy\"]\n",
    ")"
   ]
  },
  {
   "cell_type": "raw",
   "id": "16177169",
   "metadata": {},
   "source": [
    "history = model.fit(\n",
    "    X_train,\n",
    "    y_train,\n",
    "    epochs=30,\n",
    "    batch_size=32\n",
    ")"
   ]
  },
  {
   "cell_type": "code",
   "execution_count": 18,
   "id": "93d3eb69",
   "metadata": {},
   "outputs": [],
   "source": [
    "rfc = RandomForestClassifier(n_estimators=10,max_depth=8)"
   ]
  },
  {
   "cell_type": "code",
   "execution_count": 19,
   "id": "d9250d30",
   "metadata": {},
   "outputs": [],
   "source": [
    "model = rfc.fit(X_train,y_train)"
   ]
  },
  {
   "cell_type": "code",
   "execution_count": 20,
   "id": "c8aae5d6",
   "metadata": {},
   "outputs": [],
   "source": [
    "y_pred = model.predict(X_test)"
   ]
  },
  {
   "cell_type": "code",
   "execution_count": 21,
   "id": "5ae065c7",
   "metadata": {},
   "outputs": [
    {
     "data": {
      "text/plain": [
       "array([5, 3, 4, ..., 3, 7, 7], dtype=uint8)"
      ]
     },
     "execution_count": 21,
     "metadata": {},
     "output_type": "execute_result"
    }
   ],
   "source": [
    "y_pred"
   ]
  },
  {
   "cell_type": "code",
   "execution_count": 22,
   "id": "f92ef75b",
   "metadata": {},
   "outputs": [
    {
     "data": {
      "text/plain": [
       "array([5, 3, 4, ..., 3, 7, 7], dtype=uint8)"
      ]
     },
     "execution_count": 22,
     "metadata": {},
     "output_type": "execute_result"
    }
   ],
   "source": [
    "y_test"
   ]
  },
  {
   "cell_type": "code",
   "execution_count": 25,
   "id": "af4a82dc",
   "metadata": {},
   "outputs": [
    {
     "data": {
      "text/plain": [
       "array([[262,   0,   0,   0,   0,   0,   0,   0,   0],\n",
       "       [  0, 228,   0,   0,   0,   0,   0,   0,   0],\n",
       "       [  0,   0, 243,   0,   0,   0,   0,   0,   0],\n",
       "       [  0,   0,   0, 239,   0,   0,   0,   0,   0],\n",
       "       [  0,   0,   0,   0, 238,   0,   0,   0,   0],\n",
       "       [  0,   0,   0,   0,   0, 244,   0,   0,   0],\n",
       "       [  0,   0,   0,   0,   0,   0, 223,   0,   0],\n",
       "       [  0,   0,   0,   0,   0,   0,   0, 236,   0],\n",
       "       [  0,   0,   0,   0,   0,   1,   0,   0, 245]], dtype=int64)"
      ]
     },
     "execution_count": 25,
     "metadata": {},
     "output_type": "execute_result"
    }
   ],
   "source": [
    "from sklearn.metrics import confusion_matrix,accuracy_score\n",
    "confusion_matrix(y_true=y_test,y_pred=y_pred)"
   ]
  },
  {
   "cell_type": "code",
   "execution_count": 26,
   "id": "6e77a271",
   "metadata": {},
   "outputs": [
    {
     "data": {
      "text/plain": [
       "0.999536822603057"
      ]
     },
     "execution_count": 26,
     "metadata": {},
     "output_type": "execute_result"
    }
   ],
   "source": [
    "accuracy_score(y_test,y_pred)"
   ]
  },
  {
   "cell_type": "code",
   "execution_count": 27,
   "id": "fa44cd3b",
   "metadata": {},
   "outputs": [
    {
     "data": {
      "text/plain": [
       "1"
      ]
     },
     "execution_count": 27,
     "metadata": {},
     "output_type": "execute_result"
    }
   ],
   "source": [
    "X_test[0].ndim"
   ]
  },
  {
   "cell_type": "code",
   "execution_count": 29,
   "id": "62722cd4",
   "metadata": {},
   "outputs": [],
   "source": [
    "import pickle\n",
    "# now you can save it to a file\n",
    "with open('digits_classifier2.pkl', 'wb') as f:\n",
    "    pickle.dump(model, f)"
   ]
  }
 ],
 "metadata": {
  "kernelspec": {
   "display_name": "Python 3.9.12 ('tf')",
   "language": "python",
   "name": "python3"
  },
  "language_info": {
   "codemirror_mode": {
    "name": "ipython",
    "version": 3
   },
   "file_extension": ".py",
   "mimetype": "text/x-python",
   "name": "python",
   "nbconvert_exporter": "python",
   "pygments_lexer": "ipython3",
   "version": "3.9.12"
  },
  "vscode": {
   "interpreter": {
    "hash": "6ae2d279d346994c83e41f111be4ac2a0e330191796fa32d6e7ed1664df2bc3e"
   }
  }
 },
 "nbformat": 4,
 "nbformat_minor": 5
}
