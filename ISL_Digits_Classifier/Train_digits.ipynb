{
 "cells": [
  {
   "cell_type": "code",
   "execution_count": 2,
   "id": "9c724661",
   "metadata": {},
   "outputs": [],
   "source": [
    "import numpy as np"
   ]
  },
  {
   "cell_type": "code",
   "execution_count": 3,
   "id": "d5801e44",
   "metadata": {},
   "outputs": [],
   "source": [
    "data = np.load(\"isl_digits.npz\")"
   ]
  },
  {
   "cell_type": "code",
   "execution_count": 4,
   "id": "3583d4af",
   "metadata": {},
   "outputs": [],
   "source": [
    "X = data[\"train_data\"]"
   ]
  },
  {
   "cell_type": "code",
   "execution_count": 5,
   "id": "0985d418",
   "metadata": {},
   "outputs": [
    {
     "data": {
      "text/plain": [
       "(4500, 10, 10)"
      ]
     },
     "execution_count": 5,
     "metadata": {},
     "output_type": "execute_result"
    }
   ],
   "source": [
    "X.shape"
   ]
  },
  {
   "cell_type": "code",
   "execution_count": 6,
   "id": "f71f0a41",
   "metadata": {},
   "outputs": [
    {
     "data": {
      "text/plain": [
       "dtype('float32')"
      ]
     },
     "execution_count": 6,
     "metadata": {},
     "output_type": "execute_result"
    }
   ],
   "source": [
    "X.dtype"
   ]
  },
  {
   "cell_type": "code",
   "execution_count": 7,
   "id": "d2768c13",
   "metadata": {},
   "outputs": [
    {
     "data": {
      "text/plain": [
       "(4500,)"
      ]
     },
     "execution_count": 7,
     "metadata": {},
     "output_type": "execute_result"
    }
   ],
   "source": [
    "y = data[\"train_labels\"]\n",
    "y.shape"
   ]
  },
  {
   "cell_type": "code",
   "execution_count": 8,
   "id": "8f38d621",
   "metadata": {},
   "outputs": [
    {
     "data": {
      "text/plain": [
       "dtype('<U1')"
      ]
     },
     "execution_count": 8,
     "metadata": {},
     "output_type": "execute_result"
    }
   ],
   "source": [
    "y.dtype"
   ]
  },
  {
   "cell_type": "code",
   "execution_count": 9,
   "id": "a4a21fae",
   "metadata": {},
   "outputs": [
    {
     "data": {
      "text/plain": [
       "array(['1', '4', '9', ..., '3', '6', '9'], dtype='<U1')"
      ]
     },
     "execution_count": 9,
     "metadata": {},
     "output_type": "execute_result"
    }
   ],
   "source": [
    "y"
   ]
  },
  {
   "cell_type": "code",
   "execution_count": 10,
   "id": "a630a41e",
   "metadata": {},
   "outputs": [],
   "source": [
    "y = np.array([s.astype(int) for s in y])"
   ]
  },
  {
   "cell_type": "code",
   "execution_count": 11,
   "id": "56fbc3c4",
   "metadata": {},
   "outputs": [
    {
     "data": {
      "text/plain": [
       "array([1, 4, 9, ..., 3, 6, 9])"
      ]
     },
     "execution_count": 11,
     "metadata": {},
     "output_type": "execute_result"
    }
   ],
   "source": [
    "y"
   ]
  },
  {
   "cell_type": "code",
   "execution_count": 12,
   "id": "a0945336",
   "metadata": {},
   "outputs": [
    {
     "data": {
      "text/plain": [
       "array([1, 2, 3, 4, 5, 6, 7, 8, 9])"
      ]
     },
     "execution_count": 12,
     "metadata": {},
     "output_type": "execute_result"
    }
   ],
   "source": [
    "np.unique(y)"
   ]
  },
  {
   "cell_type": "code",
   "execution_count": 13,
   "id": "33fd410c",
   "metadata": {},
   "outputs": [],
   "source": [
    "from sklearn.model_selection import train_test_split\n",
    "X_train, X_test, y_train, y_test = train_test_split(X, y, train_size=0.75, random_state=0)"
   ]
  },
  {
   "cell_type": "code",
   "execution_count": 14,
   "id": "392e8dc2",
   "metadata": {},
   "outputs": [
    {
     "data": {
      "text/plain": [
       "((3375, 10, 10), (3375,))"
      ]
     },
     "execution_count": 14,
     "metadata": {},
     "output_type": "execute_result"
    }
   ],
   "source": [
    "X_train.shape,y_train.shape"
   ]
  },
  {
   "cell_type": "code",
   "execution_count": 15,
   "id": "6c75fef5",
   "metadata": {},
   "outputs": [],
   "source": [
    "from tensorflow.keras.models import Sequential\n",
    "from tensorflow.keras import layers"
   ]
  },
  {
   "cell_type": "code",
   "execution_count": 34,
   "id": "a5e60d58",
   "metadata": {},
   "outputs": [],
   "source": [
    "model = Sequential([\n",
    "    layers.Dense(64,activation='relu',input_shape = (10*10,)),\n",
    "    layers.Dense(64,activation='relu',input_shape = (10*10,)),\n",
    "    layers.Dense(10,activation='sigmoid')    \n",
    "])\n"
   ]
  },
  {
   "cell_type": "code",
   "execution_count": 35,
   "id": "877834d8",
   "metadata": {},
   "outputs": [
    {
     "name": "stdout",
     "output_type": "stream",
     "text": [
      "Model: \"sequential_3\"\n",
      "_________________________________________________________________\n",
      " Layer (type)                Output Shape              Param #   \n",
      "=================================================================\n",
      " dense_11 (Dense)            (None, 512)               51712     \n",
      "                                                                 \n",
      " dense_12 (Dense)            (None, 10)                5130      \n",
      "                                                                 \n",
      "=================================================================\n",
      "Total params: 56,842\n",
      "Trainable params: 56,842\n",
      "Non-trainable params: 0\n",
      "_________________________________________________________________\n"
     ]
    }
   ],
   "source": [
    "model.summary()"
   ]
  },
  {
   "cell_type": "code",
   "execution_count": 36,
   "id": "db5bd995",
   "metadata": {},
   "outputs": [],
   "source": [
    "from tensorflow.keras import callbacks\n",
    "cp_callback = callbacks.ModelCheckpoint(\n",
    "    \"digits_model.hdf5\", verbose=1, save_weights_only=False)\n",
    "es_callback = callbacks.EarlyStopping(patience=20, verbose=1)"
   ]
  },
  {
   "cell_type": "code",
   "execution_count": 37,
   "id": "9d9e2534",
   "metadata": {},
   "outputs": [],
   "source": [
    "model.compile(\n",
    "    optimizer='adam',\n",
    "    loss='sparse_categorical_crossentropy',\n",
    "    metrics=['accuracy']\n",
    ")"
   ]
  },
  {
   "cell_type": "code",
   "execution_count": 38,
   "id": "b2e87320",
   "metadata": {},
   "outputs": [
    {
     "name": "stdout",
     "output_type": "stream",
     "text": [
      "Epoch 1/10\n",
      "27/27 [==============================] - 2s 41ms/step - loss: 1.2617 - accuracy: 0.7813 - val_loss: 0.4934 - val_accuracy: 0.9991\n",
      "Epoch 2/10\n",
      "27/27 [==============================] - 1s 22ms/step - loss: 0.2588 - accuracy: 1.0000 - val_loss: 0.1224 - val_accuracy: 0.9991\n",
      "Epoch 3/10\n",
      "27/27 [==============================] - 1s 24ms/step - loss: 0.0794 - accuracy: 1.0000 - val_loss: 0.0527 - val_accuracy: 0.9991\n",
      "Epoch 4/10\n",
      "27/27 [==============================] - 1s 25ms/step - loss: 0.0389 - accuracy: 1.0000 - val_loss: 0.0312 - val_accuracy: 0.9991\n",
      "Epoch 5/10\n",
      "27/27 [==============================] - 1s 24ms/step - loss: 0.0241 - accuracy: 1.0000 - val_loss: 0.0212 - val_accuracy: 0.9991\n",
      "Epoch 6/10\n",
      "27/27 [==============================] - 1s 24ms/step - loss: 0.0166 - accuracy: 1.0000 - val_loss: 0.0158 - val_accuracy: 0.9991\n",
      "Epoch 7/10\n",
      "27/27 [==============================] - 1s 23ms/step - loss: 0.0122 - accuracy: 1.0000 - val_loss: 0.0124 - val_accuracy: 0.9991\n",
      "Epoch 8/10\n",
      "27/27 [==============================] - 1s 25ms/step - loss: 0.0094 - accuracy: 1.0000 - val_loss: 0.0101 - val_accuracy: 0.9991\n",
      "Epoch 9/10\n",
      "27/27 [==============================] - 1s 27ms/step - loss: 0.0075 - accuracy: 1.0000 - val_loss: 0.0085 - val_accuracy: 0.9991\n",
      "Epoch 10/10\n",
      "27/27 [==============================] - 1s 27ms/step - loss: 0.0061 - accuracy: 1.0000 - val_loss: 0.0073 - val_accuracy: 0.9991\n"
     ]
    }
   ],
   "source": [
    "history = model.fit(\n",
    "    X_train,\n",
    "    y_train,\n",
    "    epochs=10,\n",
    "    batch_size=128,\n",
    "    validation_data=(X_test, y_test)\n",
    ")"
   ]
  }
 ],
 "metadata": {
  "kernelspec": {
   "display_name": "Python 3 (ipykernel)",
   "language": "python",
   "name": "python3"
  },
  "language_info": {
   "codemirror_mode": {
    "name": "ipython",
    "version": 3
   },
   "file_extension": ".py",
   "mimetype": "text/x-python",
   "name": "python",
   "nbconvert_exporter": "python",
   "pygments_lexer": "ipython3",
   "version": "3.9.12"
  }
 },
 "nbformat": 4,
 "nbformat_minor": 5
}
